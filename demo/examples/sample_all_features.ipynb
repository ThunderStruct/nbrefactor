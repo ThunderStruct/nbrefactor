{
 "cells": [
  {
   "cell_type": "markdown",
   "id": "930c94fd",
   "metadata": {},
   "source": [
    "## Imports"
   ]
  },
  {
   "cell_type": "code",
   "execution_count": 1,
   "id": "2ccfb2b0",
   "metadata": {
    "ExecuteTime": {
     "end_time": "2024-08-29T14:11:17.890887Z",
     "start_time": "2024-08-29T14:11:03.413510Z"
    }
   },
   "outputs": [
    {
     "name": "stdout",
     "output_type": "stream",
     "text": [
      "Requirement already satisfied: torch in /Users/spaceaids/Library/Python/3.7/lib/python/site-packages (1.13.1)\n",
      "Requirement already satisfied: numpy in /Users/spaceaids/Library/Python/3.7/lib/python/site-packages (1.21.5)\n",
      "Requirement already satisfied: pandas in /Library/Frameworks/Python.framework/Versions/3.7/lib/python3.7/site-packages (1.3.5)\n",
      "Requirement already satisfied: networkx in /Library/Frameworks/Python.framework/Versions/3.7/lib/python3.7/site-packages (2.6.3)\n",
      "Requirement already satisfied: matplotlib in /Library/Frameworks/Python.framework/Versions/3.7/lib/python3.7/site-packages (3.4.1)\n",
      "Requirement already satisfied: pygraphviz in /Library/Frameworks/Python.framework/Versions/3.7/lib/python3.7/site-packages (1.7)\n",
      "Requirement already satisfied: typing-extensions in /Library/Frameworks/Python.framework/Versions/3.7/lib/python3.7/site-packages (from torch) (4.7.1)\n",
      "Requirement already satisfied: python-dateutil>=2.7.3 in /Library/Frameworks/Python.framework/Versions/3.7/lib/python3.7/site-packages (from pandas) (2.8.2)\n",
      "Requirement already satisfied: pytz>=2017.3 in /Library/Frameworks/Python.framework/Versions/3.7/lib/python3.7/site-packages (from pandas) (2022.6)\n",
      "Requirement already satisfied: cycler>=0.10 in /Library/Frameworks/Python.framework/Versions/3.7/lib/python3.7/site-packages (from matplotlib) (0.10.0)\n",
      "Requirement already satisfied: kiwisolver>=1.0.1 in /Library/Frameworks/Python.framework/Versions/3.7/lib/python3.7/site-packages (from matplotlib) (1.3.1)\n",
      "Requirement already satisfied: pillow>=6.2.0 in /Users/spaceaids/Library/Python/3.7/lib/python/site-packages (from matplotlib) (9.5.0)\n",
      "Requirement already satisfied: pyparsing>=2.2.1 in /Library/Frameworks/Python.framework/Versions/3.7/lib/python3.7/site-packages (from matplotlib) (3.0.9)\n",
      "Requirement already satisfied: six in /Library/Frameworks/Python.framework/Versions/3.7/lib/python3.7/site-packages (from cycler>=0.10->matplotlib) (1.16.0)\n"
     ]
    },
    {
     "name": "stderr",
     "output_type": "stream",
     "text": [
      "2024-08-29 15:11:10.883587: I tensorflow/core/platform/cpu_feature_guard.cc:193] This TensorFlow binary is optimized with oneAPI Deep Neural Network Library (oneDNN) to use the following CPU instructions in performance-critical operations:  AVX2 FMA\n",
      "To enable them in other operations, rebuild TensorFlow with the appropriate compiler flags.\n"
     ]
    }
   ],
   "source": [
    "!pip install torch numpy pandas networkx matplotlib pygraphviz\n",
    "\n",
    "import os\n",
    "import gc\n",
    "import re\n",
    "import sys\n",
    "import abc\n",
    "import math\n",
    "import time\n",
    "import json\n",
    "import psutil\n",
    "import shutil\n",
    "import inspect\n",
    "import logging\n",
    "import argparse\n",
    "import itertools\n",
    "import subprocess\n",
    "# comma-separated and wildcard imports are handled!\n",
    "from typing import *\n",
    "from enum import Enum, auto\n",
    "from datetime import datetime\n",
    "from copy import copy, deepcopy\n",
    "from functools import partial, lru_cache\n",
    "from collections import Counter, defaultdict\n",
    "\n",
    "import torch\n",
    "import torchvision\n",
    "import torch.nn as nn\n",
    "import torch.optim as optim\n",
    "import torch.nn.functional as F\n",
    "import torchvision.transforms as transforms\n",
    "from torch.utils.data import DataLoader, Subset, random_split\n",
    "from tensorflow.image import random_contrast, random_saturation\n",
    "\n",
    "import numpy as np\n",
    "import pandas as pd\n",
    "import networkx as nx\n",
    "from matplotlib.path import Path\n",
    "from matplotlib import pyplot as plt"
   ]
  },
  {
   "cell_type": "markdown",
   "id": "558d7a91",
   "metadata": {},
   "source": [
    "## Utils\n",
    "\n",
    "---\n",
    "This is a **Markdown Command** example\n",
    "\n",
    "_(double-click me to preview the command)_\n",
    "\n",
    "<!---\n",
    "Commands have a leading `$` and could be used to amend the generated module tree's structure.\n",
    "This particular command renames this package from \"Utils\" to \"utilities\"\n",
    "\n",
    "$node=utilities\n",
    "-->"
   ]
  },
  {
   "cell_type": "markdown",
   "id": "a546a120",
   "metadata": {},
   "source": [
    "### File Utils\n",
    "\n",
    "<!-- no commands here, this should be refactored to `./utilities/file_utils.py` -->"
   ]
  },
  {
   "cell_type": "code",
   "execution_count": 2,
   "id": "09d9f5d3",
   "metadata": {
    "ExecuteTime": {
     "end_time": "2024-08-29T14:11:17.900708Z",
     "start_time": "2024-08-29T14:11:17.895091Z"
    }
   },
   "outputs": [],
   "source": [
    "# redundantly importing `os` (on purpose)\n",
    "import os\n",
    "# unused import statement (on purpose)\n",
    "import numpy as np\n",
    "# we will also randomly use pandas, which was declared in the previous cell\n",
    "\n",
    "def ensure_dir_exists(path):\n",
    "    if not os.path.exists(path):\n",
    "        os.makedirs(path)\n",
    "        \n",
    "def the_pandas_func():\n",
    "    # this is just to showcase our CDA at work\n",
    "    # this module should contain 2 dependencies given our used definitions here\n",
    "    # `os` and `pandas as pd`\n",
    "    \n",
    "    df = pd.DataFrame()\n",
    "    del df\n",
    "    \n",
    "    "
   ]
  },
  {
   "cell_type": "markdown",
   "id": "685594e8",
   "metadata": {},
   "source": [
    "### Image Utils\n",
    "\n",
    "---\n",
    "*Uncommented commands also work!*\n",
    "\n",
    "$module=image_utilities"
   ]
  },
  {
   "cell_type": "code",
   "execution_count": 3,
   "id": "14eafdf3",
   "metadata": {
    "ExecuteTime": {
     "end_time": "2024-08-29T14:11:17.914746Z",
     "start_time": "2024-08-29T14:11:17.903494Z"
    }
   },
   "outputs": [],
   "source": [
    "# dependencies are imported in cell #1, \n",
    "# but should be injected during the refactoring process\n",
    "\n",
    "# This module is borrowed from HiveNAS (https://github.com/ThunderStruct/HiveNAS/blob/main/src/utils/image_aug.py)\n",
    "\n",
    "class ImageUtils:\n",
    "    '''Wraps a bunch of static methods for image augmentations\n",
    "    using Tensorflow/Keras.\n",
    "    '''\n",
    "\n",
    "    @staticmethod\n",
    "    def random_cutout(np_tensor, cutout_color=127):\n",
    "        '''Randomly applies cutout augmentation to a given rank 3 tensor as\n",
    "        defined in [1]. Defaults to grey cutout\n",
    "\n",
    "        [1] DeVries, T., & Taylor, G. W. (2017). Improved regularization of\n",
    "        convolutional neural networks with cutout.\n",
    "\n",
    "        Args:\n",
    "            np_tensor (:class:`numpy.array`): rank 3 numpy tensor-respresentation of \\\n",
    "            the data sample\n",
    "            cutout_color (int, optional): RGB-uniform value of the cutout color \\\n",
    "            *(defaults to grey (:code:`127`). white (:code:`255`) and black \\\n",
    "            (:code:`0`) are also valid)*\n",
    "\n",
    "        Returns:\n",
    "            :class:`numpy.array`: augmented numpy tensor (with a random cutout)\n",
    "        '''\n",
    "\n",
    "        cutout_height = int(np.random.uniform(0.1, 0.2) * np_tensor.shape[0])\n",
    "        cutout_width = int(np.random.uniform(0.1, 0.2) * np_tensor.shape[1])\n",
    "\n",
    "        cutout_height_point = np.random.randint(np_tensor.shape[0] - cutout_height)\n",
    "        cutout_width_point = np.random.randint(np_tensor.shape[1] - cutout_width)\n",
    "        \n",
    "        ret_tensor = np_tensor.copy()\n",
    "        ret_tensor[cutout_height_point: cutout_height_point + cutout_height,\n",
    "                  cutout_width_point: cutout_width_point + cutout_width,\n",
    "                  :] = cutout_color    # 127 = grey cutout,\n",
    "                                       # 0 (black) or 255 (white) also valid\n",
    "\n",
    "        return np.array(ret_tensor)\n",
    "\n",
    "\n",
    "    @staticmethod\n",
    "    def random_contrast(np_tensor):\n",
    "        '''Apply random contrast augmentation\n",
    "\n",
    "        Args:\n",
    "            np_tensor (:class:`numpy.array`): rank 3 numpy tensor-respresentation of \\\n",
    "            the data sample\n",
    "\n",
    "        Returns:\n",
    "            (:class:`numpy.array`): transformed numpy tensor with random contrast\n",
    "        '''\n",
    "\n",
    "        return np.array(random_contrast(np_tensor, 0.25, 3))\n",
    "\n",
    "\n",
    "    @staticmethod\n",
    "    def random_saturation(np_tensor):\n",
    "        '''Apply random saturation augmentation (only works on RGB images, \\\n",
    "        skipped on grayscale datasets)\n",
    "\n",
    "        Args:\n",
    "            np_tensor (:class:`numpy.array`): rank 3 numpy tensor-respresentation of \\\n",
    "            the data sample\n",
    "\n",
    "        Returns:\n",
    "            (:class:`numpy.array`): transformed numpy tensor with random saturation\n",
    "        '''\n",
    "\n",
    "        if np_tensor.shape[-1] != 3:\n",
    "            # not an RGB image, skip (cannot do saturation aug)\n",
    "            return np.array(np_tensor)\n",
    "\n",
    "        return np.array(random_saturation(np_tensor, 0.2, 3))\n",
    "\n",
    "\n"
   ]
  },
  {
   "cell_type": "markdown",
   "id": "10ee145e",
   "metadata": {},
   "source": [
    "### Plotting Utils"
   ]
  },
  {
   "cell_type": "markdown",
   "id": "594977ea",
   "metadata": {},
   "source": [
    "#### Visualize Minimax"
   ]
  },
  {
   "cell_type": "code",
   "execution_count": 4,
   "id": "1a8f1f72",
   "metadata": {
    "ExecuteTime": {
     "end_time": "2024-08-29T14:11:17.928836Z",
     "start_time": "2024-08-29T14:11:17.919161Z"
    }
   },
   "outputs": [],
   "source": [
    "\n",
    "def visualize_minimax_tree(G, root, max_depth=2):\n",
    "    def get_node_depth(node):   # FYI: local-scope declarations are not tracked through the CDA!\n",
    "        try:\n",
    "            return nx.shortest_path_length(G, source=root, target=node)\n",
    "        except nx.NetworkXNoPath:\n",
    "            return float('inf')\n",
    "\n",
    "    def get_move_label(parent_board, child_board):\n",
    "        for i in range(len(parent_board)):\n",
    "            if parent_board[i] != child_board[i]:\n",
    "                row = i // 3\n",
    "                col = i % 3\n",
    "                return f'{child_board[i]} to {row},{col}'\n",
    "        return 'Start'\n",
    "\n",
    "    # filter nodes that are within max_depth (otherwise it will take forever to plot as the tree is huge)\n",
    "    nodes_within_depth = [node for node in G.nodes() if get_node_depth(node) <= max_depth]\n",
    "    filtered_G = G.subgraph(nodes_within_depth)\n",
    "\n",
    "    # abbreviate states for readability\n",
    "    labels = {}\n",
    "    for node in filtered_G.nodes():\n",
    "        if node == root:\n",
    "            labels[node] = 'Start'\n",
    "        else:\n",
    "            parent = list(filtered_G.predecessors(node))[0]\n",
    "            labels[node] = get_move_label(parent, node)\n",
    "\n",
    "\n",
    "    pos = nx.nx_agraph.graphviz_layout(filtered_G, prog='dot')\n",
    "\n",
    "\n",
    "    plt.figure(figsize=(12, 12))\n",
    "    nx.draw(filtered_G, pos, labels=labels, with_labels=True, node_size=150, node_color=\"lightblue\", font_size=8, font_color=\"black\")\n",
    "    plt.show()\n",
    "    \n",
    "    "
   ]
  },
  {
   "cell_type": "markdown",
   "id": "bdebac95",
   "metadata": {},
   "source": [
    "\n",
    "_(double-click me to preview the command)_\n",
    "\n",
    "<!-- $declare-module=visualize_img_aug -->"
   ]
  },
  {
   "cell_type": "code",
   "execution_count": 5,
   "id": "03f8fb00",
   "metadata": {
    "ExecuteTime": {
     "end_time": "2024-08-29T14:11:17.936373Z",
     "start_time": "2024-08-29T14:11:17.931396Z"
    }
   },
   "outputs": [],
   "source": [
    "\n",
    "def plot_img_aug(sample_image, augmented_image, aug_title):\n",
    "    # Plot original and augmented images\n",
    "    plt.figure(figsize=(10, 5))\n",
    "\n",
    "    plt.subplot(1, 2, 1)\n",
    "    plt.title(\"Original Image\")\n",
    "    plt.imshow(sample_image)\n",
    "    plt.axis('off')\n",
    "\n",
    "    plt.subplot(1, 2, 2)\n",
    "    plt.title(aug_title)\n",
    "    plt.imshow(augmented_image)\n",
    "    plt.axis('off')\n",
    "\n",
    "    plt.show()\n",
    "    \n",
    "    "
   ]
  },
  {
   "cell_type": "markdown",
   "id": "6c9b1bee",
   "metadata": {},
   "source": [
    "## Image Augmentation at Work!\n",
    "\n",
    "\n",
    "_(double-click me to preview the command)_\n",
    "\n",
    "<!-- $node=image_augmentation -->"
   ]
  },
  {
   "cell_type": "markdown",
   "id": "47cd664c",
   "metadata": {},
   "source": [
    "### Img Aug"
   ]
  },
  {
   "cell_type": "code",
   "execution_count": 6,
   "id": "cda551d5",
   "metadata": {
    "ExecuteTime": {
     "end_time": "2024-08-29T14:11:17.947559Z",
     "start_time": "2024-08-29T14:11:17.939485Z"
    }
   },
   "outputs": [],
   "source": [
    "\n",
    "from tensorflow.keras.datasets import cifar10\n",
    "\n",
    "class ImageAugmentation:\n",
    "    def __init__(self):\n",
    "        # Load sample image from CIFAR-10 dataset\n",
    "        (x_train, y_train), (x_test, y_test) = cifar10.load_data()\n",
    "        self.x_train = x_train\n",
    "        self.y_train = y_train\n",
    "        self.x_test = x_test\n",
    "        self.y_test = y_test\n",
    "        \n",
    "    def get_sample(self, sample_idx=0):\n",
    "        return self.x_train[sample_idx]\n",
    "\n",
    "    def get_cutout(self, sample_idx=0):\n",
    "        return ImageUtils.random_cutout(self.get_sample(sample_idx))\n",
    "\n",
    "    def get_saturated(self, sample_idx=0):\n",
    "        return ImageUtils.random_saturation(self.get_sample(sample_idx))\n",
    "    \n",
    "    def get_contrasted(self, sample_idx=0):\n",
    "        return ImageUtils.random_contrast(self.get_sample(sample_idx))\n",
    "    \n",
    "        "
   ]
  },
  {
   "cell_type": "markdown",
   "id": "d9d3af16",
   "metadata": {},
   "source": [
    "### Plotting Img Aug"
   ]
  },
  {
   "cell_type": "markdown",
   "id": "94dac1e6",
   "metadata": {},
   "source": [
    "#### Cutout Plot "
   ]
  },
  {
   "cell_type": "code",
   "execution_count": 7,
   "id": "84519184",
   "metadata": {
    "ExecuteTime": {
     "end_time": "2024-08-29T14:11:18.918822Z",
     "start_time": "2024-08-29T14:11:17.950090Z"
    }
   },
   "outputs": [
    {
     "data": {
      "image/png": "[encoded data removed]",
      "text/plain": [
       "<Figure size 1000x500 with 2 Axes>"
      ]
     },
     "metadata": {},
     "output_type": "display_data"
    }
   ],
   "source": [
    "img_aug = ImageAugmentation()\n",
    "\n",
    "plot_img_aug(img_aug.get_sample(), img_aug.get_cutout(), 'After Random Cutout')\n",
    "\n"
   ]
  },
  {
   "cell_type": "markdown",
   "id": "16fc0591",
   "metadata": {},
   "source": [
    "#### Sat. Plot"
   ]
  },
  {
   "cell_type": "code",
   "execution_count": 8,
   "id": "40251ad0",
   "metadata": {
    "ExecuteTime": {
     "end_time": "2024-08-29T14:11:19.913703Z",
     "start_time": "2024-08-29T14:11:18.921782Z"
    }
   },
   "outputs": [
    {
     "name": "stderr",
     "output_type": "stream",
     "text": [
      "2024-08-29 15:11:19.762866: I tensorflow/core/platform/cpu_feature_guard.cc:193] This TensorFlow binary is optimized with oneAPI Deep Neural Network Library (oneDNN) to use the following CPU instructions in performance-critical operations:  AVX2 FMA\n",
      "To enable them in other operations, rebuild TensorFlow with the appropriate compiler flags.\n"
     ]
    },
    {
     "data": {
      "image/png": "[encoded data removed]",
      "text/plain": [
       "<Figure size 1000x500 with 2 Axes>"
      ]
     },
     "metadata": {},
     "output_type": "display_data"
    }
   ],
   "source": [
    "img_aug = ImageAugmentation()\n",
    "\n",
    "plot_img_aug(img_aug.get_sample(42), img_aug.get_saturated(42), 'After Random Saturation')\n",
    "\n"
   ]
  },
  {
   "cell_type": "markdown",
   "id": "9039865f",
   "metadata": {},
   "source": [
    "#### Contrast Plot"
   ]
  },
  {
   "cell_type": "code",
   "execution_count": 9,
   "id": "b36ce8b2",
   "metadata": {
    "ExecuteTime": {
     "end_time": "2024-08-29T14:11:20.846571Z",
     "start_time": "2024-08-29T14:11:19.916686Z"
    }
   },
   "outputs": [
    {
     "data": {
      "image/png": "[encoded data removed]",
      "text/plain": [
       "<Figure size 1000x500 with 2 Axes>"
      ]
     },
     "metadata": {},
     "output_type": "display_data"
    }
   ],
   "source": [
    "img_aug = ImageAugmentation()\n",
    "\n",
    "plot_img_aug(img_aug.get_sample(), img_aug.get_contrasted(), 'After Random Contrast')\n",
    "\n"
   ]
  },
  {
   "cell_type": "markdown",
   "id": "3b41e5f0",
   "metadata": {},
   "source": [
    "## Game Time!\n",
    "\n",
    "_(double-click me to preview the command)_\n",
    "\n",
    "<!-- $package=game -->"
   ]
  },
  {
   "cell_type": "markdown",
   "id": "42cbd98b",
   "metadata": {},
   "source": [
    "### TicTacToe with Minimax\n",
    "\n",
    "This package demonstrates a TicTacToe game where the opponent uses the Minimax algorithm to play optimally.\n",
    "\n",
    "---\n",
    "This markdown cell is ignored and not factored into the resultant module tree structure.\n",
    "\n",
    "_(double-click me to preview the command)_\n",
    "\n",
    "<!-- $ignore-markdown -->"
   ]
  },
  {
   "cell_type": "markdown",
   "id": "50d08151",
   "metadata": {},
   "source": [
    "### The Game Board\n",
    "\n",
    "\n",
    "_(double-click me to preview the command)_\n",
    "\n",
    "<!-- $module=tic_tac_toe.py -->"
   ]
  },
  {
   "cell_type": "code",
   "execution_count": 10,
   "id": "79bd2c7a",
   "metadata": {
    "ExecuteTime": {
     "end_time": "2024-08-29T14:11:20.867277Z",
     "start_time": "2024-08-29T14:11:20.852736Z"
    }
   },
   "outputs": [],
   "source": [
    "class TicTacToe:\n",
    "    def __init__(self):\n",
    "        self.board = [' ' for _ in range(9)]\n",
    "        self.current_winner = None\n",
    "\n",
    "    def print_board(self):\n",
    "        for row in [self.board[i * 3:(i + 1) * 3] for i in range(3)]:\n",
    "            print('| ' + ' | '.join(row) + ' |')\n",
    "\n",
    "    @staticmethod\n",
    "    def print_board_nums():\n",
    "        number_board = [[str(i) for i in range(j * 3, (j + 1) * 3)] for j in range(3)]\n",
    "        for row in number_board:\n",
    "            print('| ' + ' | '.join(row) + ' |')\n",
    "\n",
    "    def available_moves(self):\n",
    "        return [i for i, spot in enumerate(self.board) if spot == ' ']\n",
    "\n",
    "    def empty_squares(self):\n",
    "        return ' ' in self.board\n",
    "\n",
    "    def num_empty_squares(self):\n",
    "        return self.board.count(' ')\n",
    "\n",
    "    def make_move(self, square, letter):\n",
    "        if self.board[square] == ' ':\n",
    "            self.board[square] = letter\n",
    "            if self.winner(square, letter):\n",
    "                self.current_winner = letter\n",
    "            return True\n",
    "        return False\n",
    "\n",
    "    def winner(self, square, letter):\n",
    "        row_ind = square // 3\n",
    "        row = self.board[row_ind * 3:(row_ind + 1) * 3]\n",
    "        if all([spot == letter for spot in row]):\n",
    "            return True\n",
    "\n",
    "        col_ind = square % 3\n",
    "        column = [self.board[col_ind + i * 3] for i in range(3)]\n",
    "        if all([spot == letter for spot in column]):\n",
    "            return True\n",
    "\n",
    "        if square % 2 == 0:\n",
    "            diagonal1 = [self.board[i] for i in [0, 4, 8]]\n",
    "            if all([spot == letter for spot in diagonal1]):\n",
    "                return True\n",
    "            diagonal2 = [self.board[i] for i in [2, 4, 6]]\n",
    "            if all([spot == letter for spot in diagonal2]):\n",
    "                return True\n",
    "        return False\n"
   ]
  },
  {
   "cell_type": "markdown",
   "id": "0bacaacc",
   "metadata": {},
   "source": [
    "### Minimax"
   ]
  },
  {
   "cell_type": "code",
   "execution_count": 11,
   "id": "fc78d8ab",
   "metadata": {
    "ExecuteTime": {
     "end_time": "2024-08-29T14:11:20.878872Z",
     "start_time": "2024-08-29T14:11:20.870203Z"
    }
   },
   "outputs": [],
   "source": [
    "\n",
    "\n",
    "def minimax(state, depth, maximizing_player, game):\n",
    "    if game.current_winner == 'O':\n",
    "        return {'position': None, 'score': 1 * (depth + 1)}  # maximizing\n",
    "    elif game.current_winner == 'X':\n",
    "        return {'position': None, 'score': -1 * (depth + 1)}  # minimizing\n",
    "    elif not game.empty_squares():\n",
    "        return {'position': None, 'score': 0}\n",
    "\n",
    "    if maximizing_player:\n",
    "        best = {'position': None, 'score': -math.inf}\n",
    "    else:\n",
    "        best = {'position': None, 'score': math.inf}\n",
    "\n",
    "    for possible_move in game.available_moves():\n",
    "\n",
    "        game.make_move(possible_move, 'O' if maximizing_player else 'X')\n",
    "\n",
    "        sim_score = minimax(state, depth + 1, not maximizing_player, game)\n",
    "\n",
    "        game.board[possible_move] = ' '\n",
    "        game.current_winner = None\n",
    "        sim_score['position'] = possible_move\n",
    "\n",
    "\n",
    "        if maximizing_player:\n",
    "            if sim_score['score'] > best['score']:\n",
    "                best = sim_score\n",
    "        else:\n",
    "            if sim_score['score'] < best['score']:\n",
    "                best = sim_score\n",
    "\n",
    "    return best\n"
   ]
  },
  {
   "cell_type": "markdown",
   "id": "c9236cfb",
   "metadata": {},
   "source": [
    "### Visualize Minimax Tree\n",
    "\n",
    "\n",
    "_(double-click me to preview the command)_\n",
    "\n",
    "<!-- $node=visualize.py -->"
   ]
  },
  {
   "cell_type": "code",
   "execution_count": 12,
   "id": "d0c6e6cc",
   "metadata": {
    "ExecuteTime": {
     "end_time": "2024-08-29T14:11:20.889713Z",
     "start_time": "2024-08-29T14:11:20.881674Z"
    }
   },
   "outputs": [],
   "source": [
    "\n",
    "class MinimaxTreeVisualizer:\n",
    "    def __init__(self):\n",
    "        self.graph = nx.DiGraph()\n",
    "\n",
    "    def build_tree(self, game, depth=0, maximizing_player=True):\n",
    "        self.root = tuple(game.board)\n",
    "        self._build_tree_recursive(game, depth, maximizing_player, self.root)\n",
    "\n",
    "    def _build_tree_recursive(self, game, depth, maximizing_player, parent_node):\n",
    "        if game.current_winner or not game.empty_squares():\n",
    "            return\n",
    "        for move in game.available_moves():\n",
    "            game.make_move(move, 'O' if maximizing_player else 'X')\n",
    "            child_node = tuple(game.board)\n",
    "            self.graph.add_edge(parent_node, child_node)\n",
    "            self._build_tree_recursive(game, depth + 1, not maximizing_player, child_node)\n",
    "            game.board[move] = ' '\n",
    "            game.current_winner = None\n",
    "\n",
    "    def plot_tree(self, max_depth=2):\n",
    "        visualize_minimax_tree(self.graph, self.root, max_depth)\n",
    "        \n",
    "        "
   ]
  },
  {
   "cell_type": "code",
   "execution_count": 13,
   "id": "3f3de426",
   "metadata": {
    "ExecuteTime": {
     "end_time": "2024-08-29T14:11:20.896718Z",
     "start_time": "2024-08-29T14:11:20.892421Z"
    }
   },
   "outputs": [],
   "source": [
    "# this cell will be appended to the previous module\n",
    "\n",
    "def init_game(plot=False):\n",
    "    \n",
    "    game = TicTacToe()\n",
    "    \n",
    "    if plot:\n",
    "        visualizer = MinimaxTreeVisualizer()\n",
    "        visualizer.build_tree(game)\n",
    "        visualizer.plot_tree()\n",
    "        \n",
    "    return game\n",
    "    \n"
   ]
  },
  {
   "cell_type": "markdown",
   "id": "b085553d",
   "metadata": {},
   "source": [
    "### Play"
   ]
  },
  {
   "cell_type": "code",
   "execution_count": 14,
   "id": "fb4c40c6",
   "metadata": {
    "ExecuteTime": {
     "end_time": "2024-08-29T14:11:56.152010Z",
     "start_time": "2024-08-29T14:11:20.899513Z"
    }
   },
   "outputs": [
    {
     "name": "stdout",
     "output_type": "stream",
     "text": [
      "| 0 | 1 | 2 |\n",
      "| 3 | 4 | 5 |\n",
      "| 6 | 7 | 8 |\n"
     ]
    },
    {
     "ename": "KeyboardInterrupt",
     "evalue": "Interrupted by user",
     "output_type": "error",
     "traceback": [
      "\u001b[0;31m---------------------------------------------------------------------------\u001b[0m",
      "\u001b[0;31mKeyboardInterrupt\u001b[0m                         Traceback (most recent call last)",
      "\u001b[0;32m/var/folders/fz/zst2h8gs3ps4gnfgc1lrk3mm0000gn/T/ipykernel_2135/2883143798.py\u001b[0m in \u001b[0;36m<module>\u001b[0;34m\u001b[0m\n\u001b[1;32m     30\u001b[0m \u001b[0;34m\u001b[0m\u001b[0m\n\u001b[1;32m     31\u001b[0m \u001b[0;34m\u001b[0m\u001b[0m\n\u001b[0;32m---> 32\u001b[0;31m \u001b[0mplay_game\u001b[0m\u001b[0;34m(\u001b[0m\u001b[0;34m)\u001b[0m\u001b[0;34m\u001b[0m\u001b[0;34m\u001b[0m\u001b[0m\n\u001b[0m",
      "\u001b[0;32m/var/folders/fz/zst2h8gs3ps4gnfgc1lrk3mm0000gn/T/ipykernel_2135/2883143798.py\u001b[0m in \u001b[0;36mplay_game\u001b[0;34m()\u001b[0m\n\u001b[1;32m     11\u001b[0m             \u001b[0mvalid_square\u001b[0m \u001b[0;34m=\u001b[0m \u001b[0;32mFalse\u001b[0m\u001b[0;34m\u001b[0m\u001b[0;34m\u001b[0m\u001b[0m\n\u001b[1;32m     12\u001b[0m             \u001b[0;32mwhile\u001b[0m \u001b[0;32mnot\u001b[0m \u001b[0mvalid_square\u001b[0m\u001b[0;34m:\u001b[0m\u001b[0;34m\u001b[0m\u001b[0;34m\u001b[0m\u001b[0m\n\u001b[0;32m---> 13\u001b[0;31m                 \u001b[0msquare\u001b[0m \u001b[0;34m=\u001b[0m \u001b[0minput\u001b[0m\u001b[0;34m(\u001b[0m\u001b[0;34m'Choose a move (0-8): '\u001b[0m\u001b[0;34m)\u001b[0m\u001b[0;34m\u001b[0m\u001b[0;34m\u001b[0m\u001b[0m\n\u001b[0m\u001b[1;32m     14\u001b[0m                 \u001b[0;32mtry\u001b[0m\u001b[0;34m:\u001b[0m\u001b[0;34m\u001b[0m\u001b[0;34m\u001b[0m\u001b[0m\n\u001b[1;32m     15\u001b[0m                     \u001b[0msquare\u001b[0m \u001b[0;34m=\u001b[0m \u001b[0mint\u001b[0m\u001b[0;34m(\u001b[0m\u001b[0msquare\u001b[0m\u001b[0;34m)\u001b[0m\u001b[0;34m\u001b[0m\u001b[0;34m\u001b[0m\u001b[0m\n",
      "\u001b[0;32m~/Library/Python/3.7/lib/python/site-packages/ipykernel/kernelbase.py\u001b[0m in \u001b[0;36mraw_input\u001b[0;34m(self, prompt)\u001b[0m\n\u001b[1;32m   1179\u001b[0m             \u001b[0mself\u001b[0m\u001b[0;34m.\u001b[0m\u001b[0m_parent_ident\u001b[0m\u001b[0;34m[\u001b[0m\u001b[0;34m\"shell\"\u001b[0m\u001b[0;34m]\u001b[0m\u001b[0;34m,\u001b[0m\u001b[0;34m\u001b[0m\u001b[0;34m\u001b[0m\u001b[0m\n\u001b[1;32m   1180\u001b[0m             \u001b[0mself\u001b[0m\u001b[0;34m.\u001b[0m\u001b[0mget_parent\u001b[0m\u001b[0;34m(\u001b[0m\u001b[0;34m\"shell\"\u001b[0m\u001b[0;34m)\u001b[0m\u001b[0;34m,\u001b[0m\u001b[0;34m\u001b[0m\u001b[0;34m\u001b[0m\u001b[0m\n\u001b[0;32m-> 1181\u001b[0;31m             \u001b[0mpassword\u001b[0m\u001b[0;34m=\u001b[0m\u001b[0;32mFalse\u001b[0m\u001b[0;34m,\u001b[0m\u001b[0;34m\u001b[0m\u001b[0;34m\u001b[0m\u001b[0m\n\u001b[0m\u001b[1;32m   1182\u001b[0m         )\n\u001b[1;32m   1183\u001b[0m \u001b[0;34m\u001b[0m\u001b[0m\n",
      "\u001b[0;32m~/Library/Python/3.7/lib/python/site-packages/ipykernel/kernelbase.py\u001b[0m in \u001b[0;36m_input_request\u001b[0;34m(self, prompt, ident, parent, password)\u001b[0m\n\u001b[1;32m   1217\u001b[0m             \u001b[0;32mexcept\u001b[0m \u001b[0mKeyboardInterrupt\u001b[0m\u001b[0;34m:\u001b[0m\u001b[0;34m\u001b[0m\u001b[0;34m\u001b[0m\u001b[0m\n\u001b[1;32m   1218\u001b[0m                 \u001b[0;31m# re-raise KeyboardInterrupt, to truncate traceback\u001b[0m\u001b[0;34m\u001b[0m\u001b[0;34m\u001b[0m\u001b[0;34m\u001b[0m\u001b[0m\n\u001b[0;32m-> 1219\u001b[0;31m                 \u001b[0;32mraise\u001b[0m \u001b[0mKeyboardInterrupt\u001b[0m\u001b[0;34m(\u001b[0m\u001b[0;34m\"Interrupted by user\"\u001b[0m\u001b[0;34m)\u001b[0m \u001b[0;32mfrom\u001b[0m \u001b[0;32mNone\u001b[0m\u001b[0;34m\u001b[0m\u001b[0;34m\u001b[0m\u001b[0m\n\u001b[0m\u001b[1;32m   1220\u001b[0m             \u001b[0;32mexcept\u001b[0m \u001b[0mException\u001b[0m\u001b[0;34m:\u001b[0m\u001b[0;34m\u001b[0m\u001b[0;34m\u001b[0m\u001b[0m\n\u001b[1;32m   1221\u001b[0m                 \u001b[0mself\u001b[0m\u001b[0;34m.\u001b[0m\u001b[0mlog\u001b[0m\u001b[0;34m.\u001b[0m\u001b[0mwarning\u001b[0m\u001b[0;34m(\u001b[0m\u001b[0;34m\"Invalid Message:\"\u001b[0m\u001b[0;34m,\u001b[0m \u001b[0mexc_info\u001b[0m\u001b[0;34m=\u001b[0m\u001b[0;32mTrue\u001b[0m\u001b[0;34m)\u001b[0m\u001b[0;34m\u001b[0m\u001b[0;34m\u001b[0m\u001b[0m\n",
      "\u001b[0;31mKeyboardInterrupt\u001b[0m: Interrupted by user"
     ]
    }
   ],
   "source": [
    "def play_game():\n",
    "    \n",
    "    game = init_game(plot=False)\n",
    "    \n",
    "    game.print_board_nums()\n",
    "\n",
    "    while game.empty_squares():\n",
    "        if game.num_empty_squares() % 2 == 0:\n",
    "            square = minimax(None, 0, True, game)['position']\n",
    "        else:\n",
    "            valid_square = False\n",
    "            while not valid_square:\n",
    "                square = input('Choose a move (0-8): ')\n",
    "                try:\n",
    "                    square = int(square)\n",
    "                    if square not in game.available_moves():\n",
    "                        raise ValueError\n",
    "                    valid_square = True\n",
    "                except ValueError:\n",
    "                    print(\"Invalid square. Try again.\")\n",
    "\n",
    "        if game.make_move(square, 'O' if game.num_empty_squares() % 2 == 0 else 'X'):\n",
    "            game.print_board()\n",
    "            print('')\n",
    "\n",
    "            if game.current_winner:\n",
    "                print(f'{game.current_winner} wins!')\n",
    "                return\n",
    "    print(\"It's a tie!\")\n",
    "\n",
    "\n",
    "play_game()\n"
   ]
  },
  {
   "cell_type": "code",
   "execution_count": null,
   "id": "f7f170e8",
   "metadata": {
    "ExecuteTime": {
     "end_time": "2024-08-28T14:41:26.462405Z",
     "start_time": "2024-08-28T14:41:26.462383Z"
    }
   },
   "outputs": [],
   "source": []
  }
 ],
 "metadata": {
  "kernelspec": {
   "display_name": "Python 3 (ipykernel)",
   "language": "python",
   "name": "python3"
  },
  "language_info": {
   "codemirror_mode": {
    "name": "ipython",
    "version": 3
   },
   "file_extension": ".py",
   "mimetype": "text/x-python",
   "name": "python",
   "nbconvert_exporter": "python",
   "pygments_lexer": "ipython3",
   "version": "3.7.7"
  },
  "toc": {
   "base_numbering": 1,
   "nav_menu": {},
   "number_sections": true,
   "sideBar": true,
   "skip_h1_title": false,
   "title_cell": "Table of Contents",
   "title_sidebar": "Contents",
   "toc_cell": false,
   "toc_position": {},
   "toc_section_display": true,
   "toc_window_display": false
  }
 },
 "nbformat": 4,
 "nbformat_minor": 5
}
