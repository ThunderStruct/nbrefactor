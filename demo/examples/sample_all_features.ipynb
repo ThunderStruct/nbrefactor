{
 "cells": [
  {
   "cell_type": "markdown",
   "id": "930c94fd",
   "metadata": {},
   "source": [
    "## Imports"
   ]
  },
  {
   "cell_type": "code",
   "execution_count": null,
   "id": "2ccfb2b0",
   "metadata": {},
   "outputs": [],
   "source": [
    "!pip install torch numpy pandas networkx matplotlib\n",
    "\n",
    "import os\n",
    "import gc\n",
    "import re\n",
    "import sys\n",
    "import abc\n",
    "import math\n",
    "import time\n",
    "import json\n",
    "import psutil\n",
    "import shutil\n",
    "import inspect\n",
    "import logging\n",
    "import argparse\n",
    "import itertools\n",
    "import subprocess\n",
    "# comma-separated and wildcard imports are handled!\n",
    "from typing import *\n",
    "from enum import Enum, auto\n",
    "from datetime import datetime\n",
    "from copy import copy, deepcopy\n",
    "from functools import partial, lru_cache\n",
    "from collections import Counter, defaultdict\n",
    "\n",
    "import torch\n",
    "import torchvision\n",
    "import torch.nn as nn\n",
    "import torch.optim as optim\n",
    "import torch.nn.functional as F\n",
    "import torchvision.transforms as transforms\n",
    "from torch.utils.data import DataLoader, Subset, random_split\n",
    "\n",
    "import numpy as np\n",
    "import pandas as pd\n",
    "import networkx as nx\n",
    "from matplotlib.path import Path\n",
    "from matplotlib import pyplot as plt"
   ]
  },
  {
   "cell_type": "markdown",
   "id": "558d7a91",
   "metadata": {},
   "source": [
    "## Utils\n",
    "\n",
    "---\n",
    "This is a **Markdown Command** example\n",
    "\n",
    "_(double-click me to preview the command)_\n",
    "\n",
    "<!---\n",
    "Commands have a leading `$` and could be used to amend the generated module tree's structure.\n",
    "This particular command renames this package from \"Utils\" to \"utilities\"\n",
    "\n",
    "$package=utilities\n",
    "-->"
   ]
  },
  {
   "cell_type": "markdown",
   "id": "a546a120",
   "metadata": {},
   "source": [
    "### File utils\n",
    "\n",
    "<!-- no commands here, this should be refactored to `./utilities/file_utils.py` -->"
   ]
  },
  {
   "cell_type": "code",
   "execution_count": null,
   "id": "09d9f5d3",
   "metadata": {},
   "outputs": [],
   "source": [
    "# redundantly importing `os` (on purpose)\n",
    "import os\n",
    "# unused import statement (on purpose)\n",
    "import numpy as np\n",
    "# we will also randomly use pandas, which was declared in the previous cell\n",
    "\n",
    "def ensure_dir_exists(path):\n",
    "    if not os.path.exists(path):\n",
    "        os.makedirs(path)\n",
    "        \n",
    "def the_pandas_func():\n",
    "    # this is just to showcase our CDA at work\n",
    "    # this module should contain 2 dependencies given our used definitions here\n",
    "    # `os` and `pandas as pd`\n",
    "    \n",
    "    df = pd.DataFrame()\n",
    "    del df\n",
    "    \n",
    "    "
   ]
  }
 ],
 "metadata": {
  "kernelspec": {
   "display_name": "Python 3 (ipykernel)",
   "language": "python",
   "name": "python3"
  },
  "language_info": {
   "codemirror_mode": {
    "name": "ipython",
    "version": 3
   },
   "file_extension": ".py",
   "mimetype": "text/x-python",
   "name": "python",
   "nbconvert_exporter": "python",
   "pygments_lexer": "ipython3",
   "version": "3.7.7"
  },
  "toc": {
   "base_numbering": 1,
   "nav_menu": {},
   "number_sections": true,
   "sideBar": true,
   "skip_h1_title": false,
   "title_cell": "Table of Contents",
   "title_sidebar": "Contents",
   "toc_cell": false,
   "toc_position": {},
   "toc_section_display": true,
   "toc_window_display": false
  }
 },
 "nbformat": 4,
 "nbformat_minor": 5
}
