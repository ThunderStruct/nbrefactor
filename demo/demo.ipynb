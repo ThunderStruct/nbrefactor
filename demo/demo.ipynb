{
 "cells": [
  {
   "cell_type": "markdown",
   "id": "0219da54",
   "metadata": {},
   "source": [
    "# PyNBRefactor\n",
    "\n",
    "---\n",
    "_Refactors Jupyter Notebooks into Python Packages and Modules_"
   ]
  },
  {
   "cell_type": "markdown",
   "id": "b22d3cc8",
   "metadata": {},
   "source": [
    "## Set Up"
   ]
  },
  {
   "cell_type": "code",
   "execution_count": 7,
   "id": "860ac672",
   "metadata": {
    "ExecuteTime": {
     "end_time": "2024-08-26T14:57:30.497367Z",
     "start_time": "2024-08-26T14:57:30.491717Z"
    }
   },
   "outputs": [],
   "source": [
    "# IMPORTS\n",
    "\n",
    "import os\n",
    "import sys\n",
    "\n",
    "sys.path.append(os.path.abspath(os.path.join('..')))  # for parent-level relative import\n",
    "\n",
    "from processor import process_notebook\n",
    "\n",
    "\n",
    "\n",
    "# CONSTANTS & PATHS\n",
    "\n",
    "SAMPLE_NAME     = 'all_features'  # possible options ['all_features', 'HiveNAS', 'CS231n_colab', 'markdown_only']\n",
    "NOTEBOOK_PATH   = f'./examples/sample_{SAMPLE_NAME}.ipynb'\n",
    "PLOTS_PATH      = './examples/plots/'\n",
    "PLOTS_FORMAT    = 'pdf'\n",
    "\n"
   ]
  },
  {
   "cell_type": "markdown",
   "id": "cfc21370",
   "metadata": {},
   "source": [
    "## Processing / Refactoring"
   ]
  },
  {
   "cell_type": "code",
   "execution_count": 8,
   "id": "9fe30114",
   "metadata": {
    "ExecuteTime": {
     "end_time": "2024-08-26T14:57:31.055424Z",
     "start_time": "2024-08-26T14:57:31.046293Z"
    }
   },
   "outputs": [],
   "source": [
    "\n",
    "# extract filename and infer output path from the notebook path given in 1.1 Set Up\n",
    "notebook_filename = os.path.splitext(os.path.basename(NOTEBOOK_PATH))[0]  # filename w/o extension\n",
    "refactored_path = f'./examples/results/{notebook_filename}_refactored/'\n",
    "\n",
    "# NBRefactor entry point\n",
    "root_node = process_notebook(NOTEBOOK_PATH, refactored_path)\n",
    "\n"
   ]
  },
  {
   "cell_type": "markdown",
   "id": "f925af40",
   "metadata": {},
   "source": [
    "## Visualizing Generated Module Tree"
   ]
  },
  {
   "cell_type": "code",
   "execution_count": 6,
   "id": "bc70bd82",
   "metadata": {
    "ExecuteTime": {
     "end_time": "2024-08-26T14:56:15.386607Z",
     "start_time": "2024-08-26T14:56:14.630556Z"
    }
   },
   "outputs": [
    {
     "data": {
      "image/png": "[encoded data removed]",
      "text/plain": [
       "<IPython.core.display.Image object>"
      ]
     },
     "metadata": {},
     "output_type": "display_data"
    }
   ],
   "source": [
    "from visualization import plot_module_tree\n",
    "from fileops import ensure_dir\n",
    "\n",
    "from IPython.display import display, Image\n",
    "\n",
    "# ensure existence of the output path\n",
    "ensure_dir(PLOTS_PATH)\n",
    "plot_file_path = os.path.join(PLOTS_PATH, notebook_filename)\n",
    "\n",
    "# init the modules DAG\n",
    "dag = plot_module_tree(root_node, format=PLOTS_FORMAT)\n",
    "\n",
    "# render to file\n",
    "dag.render(plot_file_path, cleanup=True)\n",
    "\n",
    "# render to IPython Display\n",
    "img_data = dag.pipe(format='png')\n",
    "display(Image(img_data))\n",
    "\n"
   ]
  },
  {
   "cell_type": "code",
   "execution_count": null,
   "id": "07886896",
   "metadata": {},
   "outputs": [],
   "source": []
  }
 ],
 "metadata": {
  "kernelspec": {
   "display_name": "Python 3 (ipykernel)",
   "language": "python",
   "name": "python3"
  },
  "language_info": {
   "codemirror_mode": {
    "name": "ipython",
    "version": 3
   },
   "file_extension": ".py",
   "mimetype": "text/x-python",
   "name": "python",
   "nbconvert_exporter": "python",
   "pygments_lexer": "ipython3",
   "version": "3.7.7"
  },
  "toc": {
   "base_numbering": 1,
   "nav_menu": {},
   "number_sections": true,
   "sideBar": true,
   "skip_h1_title": false,
   "title_cell": "Table of Contents",
   "title_sidebar": "Contents",
   "toc_cell": false,
   "toc_position": {},
   "toc_section_display": true,
   "toc_window_display": false
  }
 },
 "nbformat": 4,
 "nbformat_minor": 5
}
