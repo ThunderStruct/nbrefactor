{
 "cells": [
  {
   "cell_type": "code",
   "execution_count": null,
   "id": "9c06e939",
   "metadata": {
    "ExecuteTime": {
     "end_time": "2024-08-23T17:40:13.000813Z",
     "start_time": "2024-08-23T17:40:12.996405Z"
    }
   },
   "outputs": [],
   "source": [
    "\"\"\" Refactors Jupyter Notebooks into Python Packages\n",
    "\"\"\"\n",
    "\n",
    "import os\n",
    "import sys\n",
    "\n",
    "sys.path.append(os.path.abspath(os.path.join('..')))\n",
    "\n",
    "from processor import process_notebook\n",
    "\n"
   ]
  },
  {
   "cell_type": "code",
   "execution_count": null,
   "id": "df0b858c",
   "metadata": {
    "ExecuteTime": {
     "end_time": "2024-08-23T17:40:32.306874Z",
     "start_time": "2024-08-23T17:40:32.300678Z"
    }
   },
   "outputs": [],
   "source": [
    "root_node = process_notebook('./interactive_run.ipynb', './refactored/')"
   ]
  },
  {
   "cell_type": "code",
   "execution_count": null,
   "id": "a475713c",
   "metadata": {},
   "outputs": [],
   "source": []
  }
 ],
 "metadata": {
  "kernelspec": {
   "display_name": "Python 3 (ipykernel)",
   "language": "python",
   "name": "python3"
  },
  "language_info": {
   "codemirror_mode": {
    "name": "ipython",
    "version": 3
   },
   "file_extension": ".py",
   "mimetype": "text/x-python",
   "name": "python",
   "nbconvert_exporter": "python",
   "pygments_lexer": "ipython3",
   "version": "3.7.7"
  },
  "toc": {
   "base_numbering": 1,
   "nav_menu": {},
   "number_sections": true,
   "sideBar": true,
   "skip_h1_title": false,
   "title_cell": "Table of Contents",
   "title_sidebar": "Contents",
   "toc_cell": false,
   "toc_position": {},
   "toc_section_display": true,
   "toc_window_display": false
  }
 },
 "nbformat": 4,
 "nbformat_minor": 5
}
